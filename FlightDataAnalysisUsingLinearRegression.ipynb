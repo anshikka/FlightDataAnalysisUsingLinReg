{
 "cells": [
  {
   "cell_type": "markdown",
   "metadata": {
    "colab_type": "text",
    "id": "5GcbTJu2XjIq"
   },
   "source": [
    "<font color=\"#483D8B\">\n",
    "<h1  align=\"center\">Basic Linear Regression Analysis on Flight Data</h1>\n",
    "<h3 align=\"center\"> Ansh Sikka</h3>\n",
    "<h3 align=\"center\"> 02/19/2019</h3>"
   ]
  },
  {
   "cell_type": "code",
   "execution_count": 0,
   "metadata": {
    "colab": {},
    "colab_type": "code",
    "id": "BeNByhiXXjI3"
   },
   "outputs": [],
   "source": [
    "import pandas as pd\n",
    "import numpy as np\n",
    "import matplotlib.pyplot as plt\n",
    "from sklearn import linear_model\n",
    "from sklearn.metrics import mean_squared_error, r2_score\n",
    "from collections import Iterable"
   ]
  },
  {
   "cell_type": "markdown",
   "metadata": {
    "colab_type": "text",
    "id": "EMoBPLBcXjJO"
   },
   "source": [
    "## Overview\n",
    "\n",
    "In this Jupyter Notebook, we examined a dataset with airfare and passenger data and performed multiple linear regression on it to output a model."
   ]
  },
  {
   "cell_type": "markdown",
   "metadata": {
    "colab_type": "text",
    "id": "UmVl3rroXjJR"
   },
   "source": [
    "## Data\n",
    "\n",
    "We used airfare data from http://users.stat.ufl.edu/~winner/data/airq402.dat for examination. \n",
    "The information in this dataset are below:\n",
    "\n",
    "Dataset:   airq402.dat\n",
    "\n",
    "Source: U.S. Department of Transportation\n",
    "\n",
    "Description: Airfares and passengers for U.S. Domestic Routes for 4th Quarter of 2002.\n",
    "\n",
    "### Variables/Columns\n",
    "\n",
    "* City1   1-3\n",
    "* City2   5-7\n",
    "* Average Fare    11-17\n",
    "* Distance      20-23\n",
    "* Average weekly passengers   26-33\n",
    "* market leading airline    36-37\n",
    "* market share     40-45\n",
    "* Average fare    48-54\n",
    "* Low price airline   57-58\n",
    "* market share    61-66\n",
    "* price     69-75\n",
    "\n",
    "\n",
    "We import the dataset using pandas and assign it to a dataframe. \n",
    "We assume this data is already clean. All we have to do is pre-process the data. "
   ]
  },
  {
   "cell_type": "code",
   "execution_count": 0,
   "metadata": {
    "colab": {},
    "colab_type": "code",
    "id": "lTd-O6qVXjJW",
    "outputId": "5c40b814-c65d-41ab-ec58-792051051b25"
   },
   "outputs": [
    {
     "name": "stdout",
     "output_type": "stream",
     "text": [
      "      0    1       2     3        4   5      6       7   8      9       10\n",
      "0    CAK  ATL  114.47   528   424.56  FL  70.19  111.03  FL  70.19  111.03\n",
      "1    CAK  MCO  122.47   860   276.84  FL  75.10  123.09  DL  17.23  118.94\n",
      "2    ALB  ATL  214.42   852   215.76  DL  78.89  223.98  CO   2.77  167.12\n",
      "3    ALB  BWI   69.40   288   606.84  WN  96.97   68.86  WN  96.97   68.86\n",
      "4    ALB  ORD  158.13   723   313.04  UA  39.79  161.36  WN  15.34  145.42\n",
      "5    ALB  FLL  135.17  1204   199.02  WN  40.68  137.97  DL  17.09  127.69\n",
      "6    ALB  LAS  152.85  2237   237.17  WN  59.94  148.59  WN  59.94  148.59\n",
      "7    ALB  LAX  190.73  2467   191.95  DL  17.89  205.06  US  16.59  174.00\n",
      "8    ALB  MCO  129.35  1073   550.54  WN  76.84  127.69  WN  76.84  127.69\n",
      "9    ALB  TPA  134.17  1130   202.93  US  35.40  132.91  DL  26.40  124.78\n",
      "10   ABQ  ATL  212.49  1269   198.80  DL  68.39  226.79  AA  11.91  200.93\n",
      "11   ABQ  BWI  173.56  1670   312.39  WN  49.16  180.49  AA  14.37  161.39\n",
      "12   ABQ  ORD  170.67  1121   364.78  AA  45.94  174.62  WN  33.87  163.22\n",
      "13   ABQ  DFW  120.24   580   839.78  WN  71.91  117.20  WN  71.91  117.20\n",
      "14   ABQ  DEN  168.69   349   308.26  UA  59.55  181.34  F9  39.95  149.41\n",
      "15   ABQ  IAH  154.40   767   372.93  WN  50.48  152.03  WN  50.48  152.03\n",
      "16   ABQ  LAS  114.24   487   620.86  WN  93.92  113.82  WN  93.92  113.82\n",
      "17   ABQ  LAX  132.29   677   655.00  WN  89.46  130.44  WN  89.46  130.44\n",
      "18   ABQ  MSP  181.99   981   187.28  NW  65.00  182.27  CO   2.37  109.14\n",
      "19   ABQ  LGA  233.05  1825   344.45  AA  31.33  233.26  DL  19.50  222.08\n",
      "20   ABQ  OAK  162.21   889   388.15  WN  88.63  164.27  HP   7.19  144.51\n",
      "21   ABQ  MCO  161.74  1552   190.65  WN  72.29  151.81  WN  72.29  151.81\n",
      "22   ABQ  PHX   71.57   328  1252.39  WN  77.65   70.99  WN  77.65   70.99\n",
      "23   ABQ  PDX  163.63  1111   222.93  WN  57.24  167.46  HP  20.77  155.82\n",
      "24   ABQ  SAN  134.42   628   346.30  WN  82.92  136.70  HP  13.05  119.03\n",
      "25   ABQ  SEA  165.69  1180   284.34  WN  47.82  164.81  HP  25.07  159.64\n",
      "26   ABQ  TUS   77.82   321   191.19  WN  86.29   73.50  WN  86.29   73.50\n",
      "27   ABQ  IAD  227.93  1650   301.84  AA  46.59  213.13  AA  46.59  213.13\n",
      "28   AMA  DFW   74.82   324   615.10  WN  82.04   71.51  WN  82.04   71.51\n",
      "29   AMA  IAH  120.50   545   229.78  WN  58.79  119.76  CO  37.55  118.05\n",
      "..   ...  ...     ...   ...      ...  ..    ...     ...  ..    ...     ...\n",
      "970  SLC  SEA  110.64   689   892.39  DL  60.93  111.80  WN  36.44  105.36\n",
      "971  SLC  GEG   98.36   546   204.56  DL  62.27   97.48  DL  62.27   97.48\n",
      "972  SLC  IAD  263.37  1851   305.97  DL  68.95  268.78  DL  68.95  268.78\n",
      "973  SAT  SAN  165.13  1129   248.80  WN  57.92  165.01  AA  12.45  160.60\n",
      "974  SAT  SEA  177.77  1774   229.89  AA  26.71  169.59  AA  26.71  169.59\n",
      "975  SAT  IAD  215.04  1381   345.10  DL  48.59  191.34  DL  48.59  191.34\n",
      "976  SAN  SFO  122.02   447   937.93  UA  95.92  122.11  AA   1.35  102.68\n",
      "977  SAN  SJC   82.34   417  2176.19  WN  71.53   83.52  AA  26.94   79.37\n",
      "978  SAN  SEA  148.62  1050  1303.15  AS  73.50  149.91  AS  73.50  149.91\n",
      "979  SAN  TPA  177.91  2087   273.47  DL  27.10  172.14  WN  15.38  165.25\n",
      "980  SAN  TUS   74.62   367   469.67  WN  94.07   73.10  WN  94.07   73.10\n",
      "981  SAN  IAD  330.21  2276   582.17  UA  42.55  440.35  AA  26.97  241.30\n",
      "982  SFO  SNA  134.18   372   703.36  UA  66.35  140.50  AA  30.82  119.80\n",
      "983  SFO  SEA  116.78   678  1545.54  UA  52.32  122.59  AS  45.62  109.45\n",
      "984  SFO  TPA  237.26  2392   193.26  DL  21.54  265.35  CO  16.02  200.96\n",
      "985  SFO  IAD  401.23  2442   955.65  UA  64.45  490.03  TZ   3.78  182.66\n",
      "986  SJC  SNA   77.11   342  1970.76  WN  49.97   77.54  AA  48.91   76.66\n",
      "987  SJC  SEA  105.84   697  1390.65  AS  75.35  106.30  WN  22.04  103.02\n",
      "988  SJC  TUS  144.22   721   204.56  AS  56.16  143.53  AS  56.16  143.53\n",
      "989  SJC  IAD  322.83  2424   229.02  UA  37.01  408.10  TZ  13.57  172.45\n",
      "990  SNA  SEA  156.01   978  1191.84  AS  86.77  157.43  DL   2.19  100.08\n",
      "991  SEA  GEG   70.61   224  1423.15  AS  68.40   72.60  WN  31.30   66.32\n",
      "992  SEA  TPA  162.46  2520   312.93  DL  33.03  147.60  AA  23.75  141.21\n",
      "993  SEA  TUS  131.47  1216   359.23  AS  73.25  126.38  AS  73.25  126.38\n",
      "994  SEA  IAD  288.14  2329   787.50  UA  46.51  329.20  AS  30.43  252.34\n",
      "995  SYR  TPA  136.16  1104   184.34  US  33.37  135.82  DL  28.65  118.51\n",
      "996  TLH  TPA   83.28   200   232.71  FL  99.57   82.55  FL  99.57   82.55\n",
      "997  TPA  IAD  159.97   814   843.80  US  46.19  159.65  DL  13.89  159.02\n",
      "998  TPA  PBI   73.57   174   214.45  WN  99.74   73.44  WN  99.74   73.44\n",
      "999  IAD  PBI  126.67   859   475.65  US  56.28  129.92  DL  38.57  121.94\n",
      "\n",
      "[1000 rows x 11 columns]\n"
     ]
    }
   ],
   "source": [
    "# load data into pandas dataframe \n",
    "with open('airq402.dat', 'r') as datfile:\n",
    "    df = pd.DataFrame(line.rstrip().split() for line in datfile)\n",
    "\n",
    "print(df)"
   ]
  },
  {
   "cell_type": "markdown",
   "metadata": {
    "colab_type": "text",
    "id": "QqK3-c6wXjJl"
   },
   "source": [
    "## Exploratory Data Analysis\n",
    "\n",
    "### Multiple Linear Regression Using SciKit-Learn\n",
    "\n",
    "SciKit learn has a linear regression model where you pass in a cleaned data frame and you can train the model based on the given features you want. Since we are doing multiple regression, we will use all the features and have price as the response variable. \n"
   ]
  },
  {
   "cell_type": "code",
   "execution_count": 0,
   "metadata": {
    "colab": {},
    "colab_type": "code",
    "id": "4VtiVDLQXjJn",
    "outputId": "b14da673-2ee1-4687-8ff8-54a579e642b1"
   },
   "outputs": [
    {
     "data": {
      "text/html": [
       "<div>\n",
       "<style scoped>\n",
       "    .dataframe tbody tr th:only-of-type {\n",
       "        vertical-align: middle;\n",
       "    }\n",
       "\n",
       "    .dataframe tbody tr th {\n",
       "        vertical-align: top;\n",
       "    }\n",
       "\n",
       "    .dataframe thead th {\n",
       "        text-align: right;\n",
       "    }\n",
       "</style>\n",
       "<table border=\"1\" class=\"dataframe\">\n",
       "  <thead>\n",
       "    <tr style=\"text-align: right;\">\n",
       "      <th></th>\n",
       "      <th>0</th>\n",
       "      <th>1</th>\n",
       "      <th>2</th>\n",
       "      <th>3</th>\n",
       "      <th>4</th>\n",
       "      <th>5</th>\n",
       "      <th>6</th>\n",
       "      <th>7</th>\n",
       "      <th>8</th>\n",
       "      <th>9</th>\n",
       "      <th>10</th>\n",
       "    </tr>\n",
       "  </thead>\n",
       "  <tbody>\n",
       "    <tr>\n",
       "      <th>0</th>\n",
       "      <td>16</td>\n",
       "      <td>0</td>\n",
       "      <td>114.47</td>\n",
       "      <td>528</td>\n",
       "      <td>424.56</td>\n",
       "      <td>6</td>\n",
       "      <td>70.19</td>\n",
       "      <td>111.03</td>\n",
       "      <td>8</td>\n",
       "      <td>70.19</td>\n",
       "      <td>111.03</td>\n",
       "    </tr>\n",
       "    <tr>\n",
       "      <th>1</th>\n",
       "      <td>16</td>\n",
       "      <td>40</td>\n",
       "      <td>122.47</td>\n",
       "      <td>860</td>\n",
       "      <td>276.84</td>\n",
       "      <td>6</td>\n",
       "      <td>75.10</td>\n",
       "      <td>123.09</td>\n",
       "      <td>6</td>\n",
       "      <td>17.23</td>\n",
       "      <td>118.94</td>\n",
       "    </tr>\n",
       "    <tr>\n",
       "      <th>2</th>\n",
       "      <td>2</td>\n",
       "      <td>0</td>\n",
       "      <td>214.42</td>\n",
       "      <td>852</td>\n",
       "      <td>215.76</td>\n",
       "      <td>4</td>\n",
       "      <td>78.89</td>\n",
       "      <td>223.98</td>\n",
       "      <td>5</td>\n",
       "      <td>2.77</td>\n",
       "      <td>167.12</td>\n",
       "    </tr>\n",
       "    <tr>\n",
       "      <th>3</th>\n",
       "      <td>2</td>\n",
       "      <td>7</td>\n",
       "      <td>69.40</td>\n",
       "      <td>288</td>\n",
       "      <td>606.84</td>\n",
       "      <td>14</td>\n",
       "      <td>96.97</td>\n",
       "      <td>68.86</td>\n",
       "      <td>17</td>\n",
       "      <td>96.97</td>\n",
       "      <td>68.86</td>\n",
       "    </tr>\n",
       "    <tr>\n",
       "      <th>4</th>\n",
       "      <td>2</td>\n",
       "      <td>52</td>\n",
       "      <td>158.13</td>\n",
       "      <td>723</td>\n",
       "      <td>313.04</td>\n",
       "      <td>12</td>\n",
       "      <td>39.79</td>\n",
       "      <td>161.36</td>\n",
       "      <td>17</td>\n",
       "      <td>15.34</td>\n",
       "      <td>145.42</td>\n",
       "    </tr>\n",
       "    <tr>\n",
       "      <th>5</th>\n",
       "      <td>2</td>\n",
       "      <td>18</td>\n",
       "      <td>135.17</td>\n",
       "      <td>1204</td>\n",
       "      <td>199.02</td>\n",
       "      <td>14</td>\n",
       "      <td>40.68</td>\n",
       "      <td>137.97</td>\n",
       "      <td>6</td>\n",
       "      <td>17.09</td>\n",
       "      <td>127.69</td>\n",
       "    </tr>\n",
       "    <tr>\n",
       "      <th>6</th>\n",
       "      <td>2</td>\n",
       "      <td>32</td>\n",
       "      <td>152.85</td>\n",
       "      <td>2237</td>\n",
       "      <td>237.17</td>\n",
       "      <td>14</td>\n",
       "      <td>59.94</td>\n",
       "      <td>148.59</td>\n",
       "      <td>17</td>\n",
       "      <td>59.94</td>\n",
       "      <td>148.59</td>\n",
       "    </tr>\n",
       "    <tr>\n",
       "      <th>7</th>\n",
       "      <td>2</td>\n",
       "      <td>33</td>\n",
       "      <td>190.73</td>\n",
       "      <td>2467</td>\n",
       "      <td>191.95</td>\n",
       "      <td>4</td>\n",
       "      <td>17.89</td>\n",
       "      <td>205.06</td>\n",
       "      <td>16</td>\n",
       "      <td>16.59</td>\n",
       "      <td>174.00</td>\n",
       "    </tr>\n",
       "    <tr>\n",
       "      <th>8</th>\n",
       "      <td>2</td>\n",
       "      <td>40</td>\n",
       "      <td>129.35</td>\n",
       "      <td>1073</td>\n",
       "      <td>550.54</td>\n",
       "      <td>14</td>\n",
       "      <td>76.84</td>\n",
       "      <td>127.69</td>\n",
       "      <td>17</td>\n",
       "      <td>76.84</td>\n",
       "      <td>127.69</td>\n",
       "    </tr>\n",
       "    <tr>\n",
       "      <th>9</th>\n",
       "      <td>2</td>\n",
       "      <td>82</td>\n",
       "      <td>134.17</td>\n",
       "      <td>1130</td>\n",
       "      <td>202.93</td>\n",
       "      <td>13</td>\n",
       "      <td>35.40</td>\n",
       "      <td>132.91</td>\n",
       "      <td>6</td>\n",
       "      <td>26.40</td>\n",
       "      <td>124.78</td>\n",
       "    </tr>\n",
       "  </tbody>\n",
       "</table>\n",
       "</div>"
      ],
      "text/plain": [
       "   0   1       2     3       4   5      6       7   8      9       10\n",
       "0  16   0  114.47   528  424.56   6  70.19  111.03   8  70.19  111.03\n",
       "1  16  40  122.47   860  276.84   6  75.10  123.09   6  17.23  118.94\n",
       "2   2   0  214.42   852  215.76   4  78.89  223.98   5   2.77  167.12\n",
       "3   2   7   69.40   288  606.84  14  96.97   68.86  17  96.97   68.86\n",
       "4   2  52  158.13   723  313.04  12  39.79  161.36  17  15.34  145.42\n",
       "5   2  18  135.17  1204  199.02  14  40.68  137.97   6  17.09  127.69\n",
       "6   2  32  152.85  2237  237.17  14  59.94  148.59  17  59.94  148.59\n",
       "7   2  33  190.73  2467  191.95   4  17.89  205.06  16  16.59  174.00\n",
       "8   2  40  129.35  1073  550.54  14  76.84  127.69  17  76.84  127.69\n",
       "9   2  82  134.17  1130  202.93  13  35.40  132.91   6  26.40  124.78"
      ]
     },
     "execution_count": 4,
     "metadata": {
      "tags": []
     },
     "output_type": "execute_result"
    }
   ],
   "source": [
    "# numeralize categorical data\n",
    "df[0] = df[0].astype('category')\n",
    "df[1] = df[1].astype('category')\n",
    "df[5] = df[5].astype('category')\n",
    "df[8] = df[8].astype('category')\n",
    "\n",
    "cat_columns = df.select_dtypes(['category']).columns\n",
    "\n",
    "cat_columns\n",
    "df[cat_columns] = df[cat_columns].apply(lambda x: x.cat.codes)\n",
    "df[:10]"
   ]
  },
  {
   "cell_type": "markdown",
   "metadata": {
    "colab_type": "text",
    "id": "8Qgs4YUNXjJv"
   },
   "source": [
    "#### Interpretation\n",
    "Since we can't use strings in a mathematical linear regression model, we will have to convert them into a numerical value. Pandas dataframes have a feature that easily allows us to process and convert the data into numerical values. We could just ignore these categorical values, but they can be really valuable to the response variable. "
   ]
  },
  {
   "cell_type": "code",
   "execution_count": 0,
   "metadata": {
    "colab": {},
    "colab_type": "code",
    "id": "E97-py_CXjJw",
    "outputId": "2921aa61-a336-4e8d-f39f-c6019fd90ede"
   },
   "outputs": [
    {
     "name": "stdout",
     "output_type": "stream",
     "text": [
      "         10\n",
      "900  257.23\n",
      "901  251.02\n",
      "902  265.46\n",
      "903  129.96\n",
      "904  138.56\n",
      "905  211.30\n",
      "906  123.69\n",
      "907  156.16\n",
      "908  144.11\n",
      "909  105.29\n",
      "910  106.89\n",
      "911  147.61\n",
      "912  105.37\n",
      "913  141.61\n",
      "914   68.86\n",
      "915  120.29\n",
      "916  101.76\n",
      "917   79.26\n",
      "918  125.27\n",
      "919  130.11\n",
      "920  156.80\n",
      "921  139.41\n",
      "922  247.91\n",
      "923  227.69\n",
      "924  131.36\n",
      "925  135.82\n",
      "926   76.21\n",
      "927   81.40\n",
      "928  171.01\n",
      "929  102.53\n",
      "..      ...\n",
      "970  105.36\n",
      "971   97.48\n",
      "972  268.78\n",
      "973  160.60\n",
      "974  169.59\n",
      "975  191.34\n",
      "976  102.68\n",
      "977   79.37\n",
      "978  149.91\n",
      "979  165.25\n",
      "980   73.10\n",
      "981  241.30\n",
      "982  119.80\n",
      "983  109.45\n",
      "984  200.96\n",
      "985  182.66\n",
      "986   76.66\n",
      "987  103.02\n",
      "988  143.53\n",
      "989  172.45\n",
      "990  100.08\n",
      "991   66.32\n",
      "992  141.21\n",
      "993  126.38\n",
      "994  252.34\n",
      "995  118.51\n",
      "996   82.55\n",
      "997  159.02\n",
      "998   73.44\n",
      "999  121.94\n",
      "\n",
      "[100 rows x 1 columns]\n"
     ]
    }
   ],
   "source": [
    "# extract and seperate training data (columns 0-9)\n",
    "airline_data_X = df[[i for i in range (0, 10)]]\n",
    "\n",
    "# extract pricing data\n",
    "airline_data_Y = df[[10]]\n",
    "\n",
    "# setup train_x, test_x, train_y, test_y\n",
    "\n",
    "# train with the first 100 rows\n",
    "airline_data_train_x = airline_data_X[:100]\n",
    "airline_data_test_x = airline_data_X[-100:]\n",
    "\n",
    "airline_data_train_y = airline_data_Y[:100]\n",
    "airline_data_test_y = airline_data_Y[-100:]\n",
    "\n",
    "# instantiate scikit-learn's linear regression system\n",
    "regr = linear_model.LinearRegression()"
   ]
  },
  {
   "cell_type": "markdown",
   "metadata": {
    "colab_type": "text",
    "id": "7HKMjsTlXjJ8"
   },
   "source": [
    "#### Interpretation\n",
    "We have to split the data to get the model weights. We need input variables (X) and a response variable (Y). Here, we are taking the first 9 columns with the input variables and seperating it from the response variable Y. "
   ]
  },
  {
   "cell_type": "code",
   "execution_count": 0,
   "metadata": {
    "colab": {},
    "colab_type": "code",
    "id": "h4T90ot2XjJ_"
   },
   "outputs": [],
   "source": [
    "regr.fit(airline_data_train_x, airline_data_train_y)\n",
    "airline_data_pred_y = regr.predict(airline_data_test_x) # we don't need this but it helps us test accuracy"
   ]
  },
  {
   "cell_type": "code",
   "execution_count": 0,
   "metadata": {
    "colab": {},
    "colab_type": "code",
    "id": "XGNgQYujXjKJ"
   },
   "outputs": [],
   "source": [
    "# flatten predicted list\n",
    "pred_y = [i[0] for i in airline_data_pred_y]\n",
    "\n",
    "# convert from dataframe to array\n",
    "act = airline_data_test_y.values\n",
    "actual_y = [float(i[0]) for i in act]\n",
    "\n",
    "x_act = airline_data_test_x.values\n",
    "actual_x = [float(i[0]) for i in x_act]"
   ]
  },
  {
   "cell_type": "code",
   "execution_count": 0,
   "metadata": {
    "colab": {},
    "colab_type": "code",
    "id": "IvJXapzuXjKS"
   },
   "outputs": [],
   "source": [
    "min_actual_y = min(actual_y)\n",
    "min_pred_y = min(pred_y)\n",
    "\n",
    "max_actual_y = max(actual_y)\n",
    "max_pred_y = max(pred_y)\n",
    "\n",
    "min_y = min(min_actual_y, min_pred_y)\n",
    "max_y = max(max_actual_y, max_pred_y)"
   ]
  },
  {
   "cell_type": "code",
   "execution_count": 0,
   "metadata": {
    "colab": {},
    "colab_type": "code",
    "id": "Ehq0sxjSXjKX",
    "outputId": "f122b647-4cd9-42c0-e1ee-d134034f3b65"
   },
   "outputs": [
    {
     "data": {
      "image/png": "[encoded data removed]",
      "text/plain": [
       "<Figure size 432x288 with 1 Axes>"
      ]
     },
     "metadata": {
      "needs_background": "light",
      "tags": []
     },
     "output_type": "display_data"
    }
   ],
   "source": [
    "%matplotlib inline\n",
    "fig, ax = plt.subplots()\n",
    "ax.scatter(actual_y, pred_y, edgecolors=(0, 0, 0))\n",
    "ax.plot([min_y, max_y], [min_y, max_y], 'k--', lw = 4)\n",
    "ax.set_xlabel(\"Measured\")\n",
    "ax.set_ylabel(\"Predicted\")\n",
    "plt.show()"
   ]
  },
  {
   "cell_type": "markdown",
   "metadata": {
    "colab_type": "text",
    "id": "1TwXiAGRXjKm"
   },
   "source": [
    "#### Interpretation\n",
    "We are fitting the data to a multiple linear regression model using the data that we just split from our dataframe. "
   ]
  },
  {
   "cell_type": "code",
   "execution_count": 0,
   "metadata": {
    "colab": {},
    "colab_type": "code",
    "id": "0tdCVcEQXjKn",
    "outputId": "b4e5f1e8-1df4-4bdb-d680-d05f84c55380"
   },
   "outputs": [
    {
     "name": "stdout",
     "output_type": "stream",
     "text": [
      "Coefficients: \n",
      " [[-6.14677709e-02  7.85130793e-02  1.60748030e+00  2.88652983e-03\n",
      "   8.66471790e-04  2.82493037e-01 -4.84071918e-01 -7.91423969e-01\n",
      "  -1.24145173e+00  4.54950442e-01]]\n"
     ]
    }
   ],
   "source": [
    "print('Coefficients: \\n', regr.coef_)\n",
    "    "
   ]
  },
  {
   "cell_type": "markdown",
   "metadata": {
    "colab_type": "text",
    "id": "vlhD1G_2XjKv"
   },
   "source": [
    "#### Interpretation\n",
    "As we can see, the third column (average price) has the highest weight out of all of them, showing that this column brings the biggest impact in determining and predicting prices. "
   ]
  },
  {
   "cell_type": "code",
   "execution_count": 0,
   "metadata": {
    "colab": {},
    "colab_type": "code",
    "id": "kckBNJZfXjKx",
    "outputId": "23eb77cf-b3aa-47db-ca8b-eb2334f024d6"
   },
   "outputs": [
    {
     "name": "stdout",
     "output_type": "stream",
     "text": [
      "Mean squared error: 373.42\n"
     ]
    }
   ],
   "source": [
    "# Mean squared derror\n",
    "print(\"Mean squared error: %.2f\" % mean_squared_error(airline_data_test_y, airline_data_pred_y))"
   ]
  },
  {
   "cell_type": "code",
   "execution_count": 0,
   "metadata": {
    "colab": {},
    "colab_type": "code",
    "id": "O6eM3pKgXjLC",
    "outputId": "78f48452-c2d5-46b6-c86c-6b74e3f826cd"
   },
   "outputs": [
    {
     "name": "stdout",
     "output_type": "stream",
     "text": [
      "Variance score: 0.84\n"
     ]
    }
   ],
   "source": [
    "print('Variance score: %.2f' % r2_score(airline_data_test_y, airline_data_pred_y))"
   ]
  },
  {
   "cell_type": "markdown",
   "metadata": {
    "colab_type": "text",
    "id": "Jg5ITMxwXjLN"
   },
   "source": [
    "#### Interpretation\n",
    "Since our variance score is significantly high, we can easily say that the data is mostly correctly fitted for this regression model. We can make some modifications such as removing insignificant input variables in X. "
   ]
  },
  {
   "cell_type": "markdown",
   "metadata": {
    "colab_type": "text",
    "id": "B7hkanxhXjLQ"
   },
   "source": [
    "## Conclusion\n",
    "In this Jupyter Notebook, we\n",
    "\n",
    "* Loaded a .dat dataset file into a pandas dataframe\n",
    "* Integrated and processed data with categorical values to numerial values\n",
    "* Split data into X_Train, Y_Train, X_Test, and Y_Test\n",
    "* Fitted the model with the given training data\n",
    "* Analyzed the statistics outputted from the trained model\n",
    "\n",
    "From this, it was learned that every feature in this dataset contributed a decent weight to the final price response variable. However, the largest contributor was the average price input variable. This means a lot of the given price for each airline ticket was based on the average price. The variance score of 0.84 showed that the regression score was close to 1, which means our data was fitted significantly well. There might have been some lurking variables that can cause the data to not properly fit. Possibly applying polynomials into the equation or remove insignificant variables would fit the data better. Overall, this model did fit just fine. "
   ]
  },
  {
   "cell_type": "code",
   "execution_count": 0,
   "metadata": {
    "colab": {},
    "colab_type": "code",
    "id": "gBjIFphFXjLS"
   },
   "outputs": [],
   "source": []
  },
  {
   "cell_type": "code",
   "execution_count": 0,
   "metadata": {
    "colab": {},
    "colab_type": "code",
    "id": "K4mf6AdQXjLc"
   },
   "outputs": [],
   "source": []
  },
  {
   "cell_type": "code",
   "execution_count": 0,
   "metadata": {
    "colab": {},
    "colab_type": "code",
    "id": "GnT_1F4NXjLi"
   },
   "outputs": [],
   "source": []
  }
 ],
 "metadata": {
  "colab": {
   "name": "INET4061Lab4.ipynb",
   "provenance": [],
   "version": "0.3.2"
  },
  "kernelspec": {
   "display_name": "Python 3",
   "language": "python",
   "name": "python3"
  },
  "language_info": {
   "codemirror_mode": {
    "name": "ipython",
    "version": 3
   },
   "file_extension": ".py",
   "mimetype": "text/x-python",
   "name": "python",
   "nbconvert_exporter": "python",
   "pygments_lexer": "ipython3",
   "version": "3.6.8"
  }
 },
 "nbformat": 4,
 "nbformat_minor": 1
}
